{
 "cells": [
  {
   "cell_type": "code",
   "execution_count": null,
   "metadata": {},
   "outputs": [
    {
     "data": {
      "text/plain": [
       "['Hi Alice', 'Hi Bob', 'Hi Pete']\n"
      ]
     },
     "metadata": {},
     "output_type": "display_data"
    }
   ],
   "source": [
    "[('Hi '+ x) for x in ['Alice', 'Bob', 'Pete']]"
   ]
  },
  {
   "cell_type": "code",
   "execution_count": null,
   "metadata": {},
   "outputs": [
    {
     "data": {
      "text/plain": [
       "[0, 0, 2, 0, 3, 6]\n"
      ]
     },
     "metadata": {},
     "output_type": "display_data"
    }
   ],
   "source": [
    "[x * y for x in range(4) for y in range (3) if x>y]"
   ]
  },
  {
   "cell_type": "code",
   "execution_count": null,
   "metadata": {},
   "outputs": [],
   "source": [
    "squares = {x**2 for x in [0,2,4] if x < 4}"
   ]
  },
  {
   "cell_type": "code",
   "execution_count": null,
   "metadata": {},
   "outputs": [
    {
     "data": {
      "text/plain": [
       "True\n",
       "False\n",
       "True\n",
       "True\n",
       "Chocolate\n"
      ]
     },
     "metadata": {},
     "output_type": "display_data"
    }
   ],
   "source": [
    "calories = {'Apple' : 52,\n",
    "            'Banana' : 89,\n",
    "            'Chocolate' : 546 }\n",
    "\n",
    "c = calories\n",
    "print(c['Apple'] < c['Chocolate'])\n",
    "c['Cappu'] = 74\n",
    "print(c['Banana'] < c['Cappu'])\n",
    "print('Apple' in c.keys())\n",
    "print(52 in c.values())\n",
    "\n",
    "for k, v in calories.items():\n",
    "    print(k) if v > 500 else None "
   ]
  },
  {
   "cell_type": "code",
   "execution_count": null,
   "metadata": {},
   "outputs": [
    {
     "data": {
      "text/plain": [
       "True\n",
       "False\n"
      ]
     },
     "metadata": {},
     "output_type": "display_data"
    }
   ],
   "source": [
    "basket = {'apple', 'eggs', 'banana', 'orange'}\n",
    "print('eggs' in basket)\n",
    "print('mushroom' in basket)\n"
   ]
  },
  {
   "cell_type": "code",
   "execution_count": null,
   "metadata": {},
   "outputs": [],
   "source": [
    "class Employee():\n",
    "    pass\n",
    "\n",
    "employee = Employee ()\n",
    "employee.salary = 122000\n",
    "employee.firstname = \"alice\"\n",
    "employee.lastname = \"wonderland\"\n",
    "\n",
    "print(employee.firstname + + employee.lastname +\"$\"+ str (employee.salary))"
   ]
  },
  {
   "cell_type": "code",
   "execution_count": null,
   "metadata": {},
   "outputs": [
    {
     "data": {
      "text/plain": [
       "1\n",
       "[2, 3, 4, 5, 6]\n"
      ]
     },
     "metadata": {},
     "output_type": "display_data"
    }
   ],
   "source": [
    "a, *b = [1,2,3,4,5,6]\n",
    "print (a)\n",
    "print (b)"
   ]
  },
  {
   "cell_type": "code",
   "execution_count": null,
   "metadata": {},
   "outputs": [
    {
     "data": {
      "text/plain": [
       "Taday is a sunny\n"
      ]
     },
     "metadata": {},
     "output_type": "display_data"
    }
   ],
   "source": [
    "s = \"Taday is a sunny day\"\n",
    "print(s[:-4])"
   ]
  },
  {
   "cell_type": "code",
   "execution_count": null,
   "metadata": {},
   "outputs": [
    {
     "data": {
      "text/plain": [
       "[3]\n"
      ]
     },
     "metadata": {},
     "output_type": "display_data"
    }
   ],
   "source": [
    "stack = [3,17,11,5]\n",
    "stack.append(42)\n",
    "for i in range(4):\n",
    "    stack.pop()\n",
    "print(stack)"
   ]
  },
  {
   "cell_type": "code",
   "execution_count": null,
   "metadata": {},
   "outputs": [
    {
     "data": {
      "text/plain": [
       "Hello Emma\n",
       "You are 27 years old\n",
       "You are 192.0 cm tall\n"
      ]
     },
     "metadata": {},
     "output_type": "display_data"
    }
   ],
   "source": [
    "name = input('What is your name?: ')\n",
    "age = int(input('How old are you?: '))\n",
    "hieght = float(input('How tall are you?: '))\n",
    "\n",
    "print('Hello', name)\n",
    "print('You are '+ str(age)+ ' years old')\n",
    "print('You are ' + str(hieght)+ ' cm tall')"
   ]
  },
  {
   "cell_type": "code",
   "execution_count": null,
   "metadata": {},
   "outputs": [],
   "source": [
    "fname = input('What is your Family name?')\n",
    "lname = fname\n",
    "mname = input('What is your middle name?')\n",
    "\n",
    "# if lname + (fname):\n",
    "\n",
    "print(lname) (mname)"
   ]
  },
  {
   "cell_type": "code",
   "execution_count": null,
   "metadata": {},
   "outputs": [
    {
     "data": {
      "text/plain": [
       "You are too young for this, Thanks\n"
      ]
     },
     "metadata": {},
     "output_type": "display_data"
    }
   ],
   "source": [
    "age = int(input('Please input your age'))\n",
    "\n",
    "if age >= 18:\n",
    "    print('You are any Adult!')\n",
    "else:\n",
    "    print('You are too young for this, Thanks')"
   ]
  },
  {
   "cell_type": "code",
   "execution_count": null,
   "metadata": {},
   "outputs": [
    {
     "data": {
      "text/plain": [
       "Hit me up at the club\n"
      ]
     },
     "metadata": {},
     "output_type": "display_data"
    }
   ],
   "source": [
    "answer = input('Do you like going to the gym? (Y/N)')\n",
    "\n",
    "if answer == 'Y':\n",
    "    print('See you at 5PM')\n",
    "elif answer == 'N':\n",
    "    print('Hit me up at the club')\n",
    "else:\n",
    "    print('Enter valid Response')"
   ]
  },
  {
   "cell_type": "code",
   "execution_count": null,
   "metadata": {},
   "outputs": [
    {
     "data": {
      "text/plain": [
       "Hello Emmanuel\n"
      ]
     },
     "metadata": {},
     "output_type": "display_data"
    }
   ],
   "source": [
    "name = input('Please enter your name')\n",
    "if name == '':\n",
    "    print('You did not enter a name')\n",
    "else:\n",
    "    print('Hello',name)"
   ]
  },
  {
   "cell_type": "code",
   "execution_count": null,
   "metadata": {},
   "outputs": [],
   "source": [
    "i = 0\n",
    "while i < 6:\n",
    "    i += 1\n",
    "    if i == 3:\n",
    "        StopIteration\n",
    "print (i)"
   ]
  },
  {
   "cell_type": "code",
   "execution_count": null,
   "metadata": {},
   "outputs": [],
   "source": [
    "firstname = input ('Please enter your Firstname')\n",
    "lastname = input ('Please enter your Lastname')\n",
    "DOB = input('Please enter your Date of Birth (DD/MM/YYYY)')\n",
    "Housenumber = int (input ('Please enter your House Number'))\n",
    "#while Housenumber != int:\n",
    "#   print('Your have entered a wrong detail')\n",
    "Streetname = input ('Please enter your Street')\n",
    "Postcode = input ('Please enter your Postal Code')\n",
    "\n",
    "\n",
    "\n",
    "Name = firstname + \" \" + lastname\n",
    "Address = str(Housenumber) + \" \" + Streetname + \" \" + Postcode\n",
    "Profile = Name + \" \" + Address\n",
    "\n",
    "\n",
    "print (Name)\n",
    "print (Address)\n",
    "print (Profile)"
   ]
  }
 ],
 "metadata": {
  "language_info": {
   "name": "python"
  }
 },
 "nbformat": 4,
 "nbformat_minor": 2
}
